{
 "cells": [
  {
   "cell_type": "markdown",
   "id": "a643683a-a938-4e41-910e-cd340791d124",
   "metadata": {},
   "source": [
    "# Grammatical Gender: Does it Translate?"
   ]
  },
  {
   "cell_type": "markdown",
   "id": "2e2f1821-bb55-4853-a028-c56b5f712a81",
   "metadata": {},
   "source": [
    "I want to find out if the grammatical gender systems in German and French are connected. When a noun has feminine gender in German, what is the chance that the corresponding French noun is also feminine &mdash; is it better than a coin toss? I have downloaded a FR/DE dictionary from [here](https://www.dict.cc). I cannot include the file in the repo since that would violate the dict.cc ToS, but you can request it [here](https://www1.dict.cc/translation_file_request.php?l=e) &mdash; pick option \"DE->FR (tab-delimited, UTF-8). I will be using many of their other dictionaries."
   ]
  },
  {
   "cell_type": "code",
   "execution_count": null,
   "id": "824f5445-41cf-46e1-b231-5e595afdfd6f",
   "metadata": {},
   "outputs": [],
   "source": [
    "# all imports and configs go here\n",
    "\n",
    "import pandas as pd\n",
    "import numpy as np\n",
    "import matplotlib.pyplot as plt\n",
    "from IPython.display import display \n",
    "from sklearn.metrics import confusion_matrix, ConfusionMatrixDisplay, matthews_corrcoef\n",
    "from scipy.stats import chi2_contingency, fisher_exact\n",
    "\n",
    "# this line can make some cells very slow. Comment out if that's the case\n",
    "pd.set_option(\"display.max_rows\", None)"
   ]
  },
  {
   "cell_type": "code",
   "execution_count": null,
   "id": "04272567-683a-493c-9c2b-24321b0a4497",
   "metadata": {},
   "outputs": [],
   "source": [
    "# load German-French dictionary file - if you download it from dict.cc, rename and move file appropriately!\n",
    "\n",
    "defr = pd.read_csv('../datasets/defr/defr.txt', \n",
    "                   sep='\\t', \n",
    "                   header=7,\n",
    "                   names=['de', 'fr', 'cat', 'comment'])"
   ]
  },
  {
   "cell_type": "markdown",
   "id": "f339086f-d8b2-4913-b89a-69829b526888",
   "metadata": {},
   "source": [
    "Let's have a look at the raw data:"
   ]
  },
  {
   "cell_type": "code",
   "execution_count": null,
   "id": "0c0d6664-bc08-4696-8666-6700cf98e3d2",
   "metadata": {},
   "outputs": [],
   "source": [
    "display(defr)"
   ]
  },
  {
   "cell_type": "markdown",
   "id": "c434377a-5500-4d56-8433-07f1066fa473",
   "metadata": {},
   "source": [
    "Some preprocessing is ostensibly necessary. The gender is typically denoted in braces `{f} {m} {n}`, and sometimes (in French) by `{f.pl}` and `{m.pl}`. Note that German has three grammatical genders (masculine, feminine, neutral), but French has only two (masculine and feminine): this will become important later!\n",
    "\n",
    "There are outliers where either no gender is given, either by error (a few German entries only have `{pl}`), or because the translation of a noun is a paraphrased description instead of one noun. \n",
    "We will perform the following preprocessing steps:\n",
    "* remove `comment` column\n",
    "* remove everything that is not labelled as a noun\n",
    "* extract gender by searching pattern\n",
    "* discard lines where we cannot extract gender for either German or French"
   ]
  },
  {
   "cell_type": "code",
   "execution_count": null,
   "id": "9c41c2ca-cf35-4609-9bc3-788fc6f25a91",
   "metadata": {},
   "outputs": [],
   "source": [
    "# remove superfluous column\n",
    "defr = defr.drop(labels=['comment'], axis=1)"
   ]
  },
  {
   "cell_type": "code",
   "execution_count": null,
   "id": "13f72eac-fc35-4ea1-8502-1702b5ca745d",
   "metadata": {},
   "outputs": [],
   "source": [
    "# restrict to nouns\n",
    "nouns = defr[defr.cat == 'noun'].reset_index(drop=True)"
   ]
  },
  {
   "cell_type": "code",
   "execution_count": null,
   "id": "16389bce-d380-471b-8d8b-1f1813b45170",
   "metadata": {},
   "outputs": [],
   "source": [
    "# use regex to find gender markers: where no valid marker can be extracted, we will get 'nan'\n",
    "nouns['de_gender'] = nouns.de.str.extract(r'(\\{[mfn]\\}|\\{[mfn].pl\\})')\n",
    "nouns['fr_gender'] = nouns.fr.str.extract(r'(\\{[mf]\\}|\\{[mf].pl\\})')"
   ]
  },
  {
   "cell_type": "code",
   "execution_count": null,
   "id": "d9541637-6534-45b2-b9c8-ade30fcdd597",
   "metadata": {},
   "outputs": [],
   "source": [
    "# drop lines with less than two valid gender markers aka 'nan's; replace {f} with f etc\n",
    "nouns_gendered = nouns.dropna(axis=0).reset_index(drop=True)\n",
    "nouns_gendered['de_gender'] = nouns_gendered['de_gender'].map(lambda s: s[1])\n",
    "nouns_gendered['fr_gender'] = nouns_gendered['fr_gender'].map(lambda s: s[1])"
   ]
  },
  {
   "cell_type": "code",
   "execution_count": null,
   "id": "2233e835-a4d0-4e51-8563-8dcfabce80ae",
   "metadata": {},
   "outputs": [],
   "source": [
    "# how many entries did we lose in the last step?\n",
    "print(f'We have {len(nouns)} nouns, and {len(nouns_gendered)} with two valid gender markers. \\\n",
    "We discarded {len(nouns)-len(nouns_gendered)} lines in the process.')"
   ]
  },
  {
   "cell_type": "markdown",
   "id": "653738a6-710e-4bc3-b016-84de458104ea",
   "metadata": {},
   "source": [
    "That seems like acceptable losses. Let's look at the data that's left, for sanity checking:"
   ]
  },
  {
   "cell_type": "code",
   "execution_count": null,
   "id": "14ff0a8e-8e29-424b-af54-b4b3147f5347",
   "metadata": {},
   "outputs": [],
   "source": [
    "display(nouns_gendered)"
   ]
  },
  {
   "cell_type": "code",
   "execution_count": null,
   "id": "398e3e3d-85d2-49e1-9801-ef3039bea9fc",
   "metadata": {},
   "outputs": [],
   "source": [
    "labels = ['m', 'f', 'n']\n",
    "cm = confusion_matrix(nouns_gendered['de_gender'].values,\n",
    "                      nouns_gendered['fr_gender'].values, \n",
    "                      labels=labels)\n",
    "plot = ConfusionMatrixDisplay(cm, display_labels=labels)\n",
    "plot.plot()\n",
    "plot.ax_.set(xlabel='French', ylabel='German');\n",
    "plt.savefig('confusion_defr_nogrouping.png')"
   ]
  },
  {
   "cell_type": "markdown",
   "id": "1a494b86-d3d2-499c-ba6d-e70ce3146a88",
   "metadata": {},
   "source": [
    "Of course, since French has no neutral gender but German has, the rightmost column must be empty. French's progenitor language Latin has three genders (as did the grandmother of them all, Proto-Indoeuropean), but many modern Romance languages whittled that down to just two &mdash; `m` and `f`. In Italian this happened roughly by merging masculine and neutral, it appears that French has had a similar development but it is less clear to me (I am not a linguist!). Some things may be muddier here: Latin argentum (n) &rarr; French argent (m); lac (n) &rarr; lait (m) BUT pōmum (n) &rarr; pomme (f); mare (n) &rarr; mer (f). We will be getting around to matching Latin and French noun genders later!\n",
    "\n",
    "In the meantime, let's make a simplifying assumption for now: that the elimination of neutral gender in French went along similar lines as in Italian, i.e. the majority of neutral nouns assumed masculine gender. Since French has arguably suffered (? or profited?) from Germanic influence more than other Romance languages, we could assume that that may have made things messier than in Italian. But looking at neutral german nouns (bottom row of plot above), they tend to be predominantly masculine in French &mdash; almost twice as often. Hence the influence can be assumed to be subdominant &mdash; it would certainly be less justified to assume that the majority of neutral nouns assumed the feminine gender. \n",
    "\n",
    "Thus, let us pour all German masculine and neutral nouns into a bucket and compare that across the two genders in French. The intention is to artificially emulate the historical evolution of Romance language, to allow us to compare if a noun is \"more of f or more of m\" across the two languages."
   ]
  },
  {
   "cell_type": "code",
   "execution_count": null,
   "id": "769ed6f2-72d5-4f02-861d-71695e4857c9",
   "metadata": {},
   "outputs": [],
   "source": [
    "nouns_gendered['de_gender_grouped'] = nouns_gendered['de_gender'].map({'f': 'f', 'm': 'm', 'n': 'm'})"
   ]
  },
  {
   "cell_type": "code",
   "execution_count": null,
   "id": "61f0ece1-02f6-4b2b-ba3f-6b0f18672eb1",
   "metadata": {},
   "outputs": [],
   "source": [
    "labels = ['m', 'f']\n",
    "cm2 = confusion_matrix(nouns_gendered['de_gender_grouped'].values, \n",
    "                       nouns_gendered['fr_gender'].values, \n",
    "                       labels=labels)\n",
    "plot = ConfusionMatrixDisplay(cm2, display_labels=labels)\n",
    "plot.plot()\n",
    "plot.ax_.set(xlabel='French', ylabel='German', yticklabels=['m / n', 'f']);\n",
    "plt.savefig('confusion_defr_grouping.png')"
   ]
  },
  {
   "cell_type": "code",
   "execution_count": null,
   "id": "375f786b-57e1-4d6d-8992-f6d364b206ea",
   "metadata": {},
   "outputs": [],
   "source": [
    "cm2.diagonal().sum() / cm2.sum()"
   ]
  },
  {
   "cell_type": "markdown",
   "id": "3e20ed7d-d94e-478b-8ccc-9e70caa6e5aa",
   "metadata": {},
   "source": [
    "So it turns out: when going German &rarr; French and guessing gender, just make it the same as in German (understood that n&rarr;m) and you'll be right 70% of the time! I can say that this result did indeed surprise me. Note that we are not weighing by noun usage frequency &mdash; it may very well be true that commonly used words differ in gender more ore less often than just 30%!\n",
    "\n",
    "Time to make things more quantitative: [Matthew's $\\varphi$ coefficient](https://en.wikipedia.org/wiki/Phi_coefficient) (also known as Yule coefficient) is the version of [Pearson's famous-infamous $r$ correlation coefficient](https://en.wikipedia.org/wiki/Pearson_correlation_coefficient) for binary variates, rather than continuous for $r$. It quantifies correlation between two variates &mdash; it equals one for perfect correlation, negative for for perfect anticorrelation, and zero for independence (NB: $r=0$ does _not_ imply independence of two real-valued variates!). We can compute this number from the contingency tables:"
   ]
  },
  {
   "cell_type": "code",
   "execution_count": null,
   "id": "d93f20f5-bb83-45de-9e2d-41f8c671d9bc",
   "metadata": {},
   "outputs": [],
   "source": [
    "print(f\"Matthew's phi before grouping is {matthews_corrcoef(nouns_gendered['de_gender'], nouns_gendered['fr_gender'])}\")\n",
    "print(f\"Matthew's phi after grouping is {matthews_corrcoef(nouns_gendered['de_gender_grouped'], nouns_gendered['fr_gender'])}\")"
   ]
  },
  {
   "cell_type": "markdown",
   "id": "af565438-6c67-4f62-a512-6e289750ac8f",
   "metadata": {},
   "source": [
    "Roughly ~0.3 without grouping and ~0.4 with: unsurprisingly, artificially replicating one language's historical development in the other does make them more similar."
   ]
  },
  {
   "cell_type": "markdown",
   "id": "9c6df1c4-c6bf-4808-b808-225b1381c4ba",
   "metadata": {},
   "source": [
    "We can quantify more things: one could start with the assumption that since German and French belong to distinct language families with different evolution histories, their divisions into bipartite or tripartite classes ought to be statistically independent. There are many statistical tools for testing such an assumption, such as the [$\\chi^2$-test for independence](https://en.wikipedia.org/wiki/Chi-squared_test#Example_chi-squared_test_for_categorical_data), [Fisher's exact test](https://en.wikipedia.org/wiki/Fisher%27s_exact_test), and the [G-test](https://en.wikipedia.org/wiki/G-test). They fit into the \"classical\" hypothesis testing framework: _postulate a hypothesis, calculate the probability of the seen data under that hypothesis, take that as a measure of how plausible the hypothesis is_. Without much explanation or discussion, let's just hunga-bunga our data into the entire battery &mdash; pay attention to the `pvalue` results:"
   ]
  },
  {
   "cell_type": "code",
   "execution_count": null,
   "id": "a1cc709b-6a14-4747-8b0a-7c3d1d6f18a3",
   "metadata": {},
   "outputs": [],
   "source": [
    "print(chi2_contingency(cm[:,:2]))\n",
    "print(chi2_contingency(cm2))"
   ]
  },
  {
   "cell_type": "code",
   "execution_count": null,
   "id": "9a3eb8ba-49db-4986-a11f-02bbb75abcda",
   "metadata": {},
   "outputs": [],
   "source": [
    "fisher_exact(cm2)"
   ]
  },
  {
   "cell_type": "code",
   "execution_count": null,
   "id": "4adc62f9-6ae2-493f-bc1e-0f4f2493a33e",
   "metadata": {},
   "outputs": [],
   "source": [
    "# G-test\n",
    "print(chi2_contingency(cm[:,:2], lambda_=0))\n",
    "print(chi2_contingency(cm2, lambda_=0))"
   ]
  },
  {
   "cell_type": "markdown",
   "id": "b63edaa2-de63-4e62-9cba-c9d4cd5bff76",
   "metadata": {},
   "source": [
    "All `pvalue`s come out `0.0`! As it turns out, all tests tell us that the chance of our data happening randomly under the assumption of independence is less than would be meaningful to report: we can safely discard that idea, there is _definitely_ a connection between gender in German and gender in French! From the data we have studied so far we cannot tell if that is because of a common language ancestor or because of mutual influence. We know both are indo-european languages, and that French and German have had millennia of exchange: German has borrowed many French words during the Enlightenment period, and French itself has had a comparably strong Germanic influence of compared to other Romance languages."
   ]
  },
  {
   "cell_type": "code",
   "execution_count": null,
   "id": "b4e5d475-bec5-4c58-88c1-a2e2108cc948",
   "metadata": {},
   "outputs": [],
   "source": []
  },
  {
   "cell_type": "code",
   "execution_count": null,
   "id": "d4f49df9-b7aa-45fa-a6dc-37d1a2beb3b6",
   "metadata": {},
   "outputs": [],
   "source": []
  },
  {
   "cell_type": "code",
   "execution_count": null,
   "id": "24e46e4e-72b5-494d-817e-f659fe71ca02",
   "metadata": {},
   "outputs": [],
   "source": []
  },
  {
   "cell_type": "code",
   "execution_count": null,
   "id": "01e10606-27e5-45ee-96f2-f09f2c5ee41b",
   "metadata": {},
   "outputs": [],
   "source": []
  },
  {
   "cell_type": "code",
   "execution_count": null,
   "id": "7173948c-1073-4544-88d8-33dfc002c20e",
   "metadata": {},
   "outputs": [],
   "source": []
  },
  {
   "cell_type": "code",
   "execution_count": null,
   "id": "477522d8-bdf5-4054-9a70-d651da09aebc",
   "metadata": {},
   "outputs": [],
   "source": []
  }
 ],
 "metadata": {
  "kernelspec": {
   "display_name": "Python 3 (ipykernel)",
   "language": "python",
   "name": "python3"
  },
  "language_info": {
   "codemirror_mode": {
    "name": "ipython",
    "version": 3
   },
   "file_extension": ".py",
   "mimetype": "text/x-python",
   "name": "python",
   "nbconvert_exporter": "python",
   "pygments_lexer": "ipython3",
   "version": "3.12.2"
  }
 },
 "nbformat": 4,
 "nbformat_minor": 5
}
